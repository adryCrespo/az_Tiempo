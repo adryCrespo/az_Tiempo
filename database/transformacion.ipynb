{
 "cells": [
  {
   "cell_type": "code",
   "execution_count": 1,
   "metadata": {},
   "outputs": [],
   "source": [
    "import pandas as pd"
   ]
  },
  {
   "cell_type": "code",
   "execution_count": 2,
   "metadata": {},
   "outputs": [],
   "source": [
    "df = pd.read_csv(\"Query 1.csv\")"
   ]
  },
  {
   "cell_type": "code",
   "execution_count": 3,
   "metadata": {},
   "outputs": [
    {
     "data": {
      "text/html": [
       "<div>\n",
       "<style scoped>\n",
       "    .dataframe tbody tr th:only-of-type {\n",
       "        vertical-align: middle;\n",
       "    }\n",
       "\n",
       "    .dataframe tbody tr th {\n",
       "        vertical-align: top;\n",
       "    }\n",
       "\n",
       "    .dataframe thead th {\n",
       "        text-align: right;\n",
       "    }\n",
       "</style>\n",
       "<table border=\"1\" class=\"dataframe\">\n",
       "  <thead>\n",
       "    <tr style=\"text-align: right;\">\n",
       "      <th></th>\n",
       "      <th>fecha</th>\n",
       "      <th>nombre</th>\n",
       "      <th>descripcion</th>\n",
       "      <th>t_min</th>\n",
       "      <th>t_max</th>\n",
       "    </tr>\n",
       "  </thead>\n",
       "  <tbody>\n",
       "    <tr>\n",
       "      <th>0</th>\n",
       "      <td>01-12-2024</td>\n",
       "      <td>alcala_heranes</td>\n",
       "      <td>Muy nuboso</td>\n",
       "      <td>2.0</td>\n",
       "      <td>18.0</td>\n",
       "    </tr>\n",
       "    <tr>\n",
       "      <th>1</th>\n",
       "      <td>01-12-2024</td>\n",
       "      <td>collado_villalba</td>\n",
       "      <td>Muy nuboso con lluvia escasa</td>\n",
       "      <td>6.0</td>\n",
       "      <td>17.0</td>\n",
       "    </tr>\n",
       "    <tr>\n",
       "      <th>2</th>\n",
       "      <td>01-12-2024</td>\n",
       "      <td>getafe</td>\n",
       "      <td>Muy nuboso</td>\n",
       "      <td>6.0</td>\n",
       "      <td>16.0</td>\n",
       "    </tr>\n",
       "    <tr>\n",
       "      <th>3</th>\n",
       "      <td>01-12-2024</td>\n",
       "      <td>madrid</td>\n",
       "      <td>Cubierto</td>\n",
       "      <td>6.0</td>\n",
       "      <td>16.0</td>\n",
       "    </tr>\n",
       "    <tr>\n",
       "      <th>4</th>\n",
       "      <td>01-12-2024</td>\n",
       "      <td>navalcarnero</td>\n",
       "      <td>Cubierto</td>\n",
       "      <td>5.0</td>\n",
       "      <td>17.0</td>\n",
       "    </tr>\n",
       "  </tbody>\n",
       "</table>\n",
       "</div>"
      ],
      "text/plain": [
       "        fecha            nombre                   descripcion  t_min  t_max\n",
       "0  01-12-2024    alcala_heranes                    Muy nuboso    2.0   18.0\n",
       "1  01-12-2024  collado_villalba  Muy nuboso con lluvia escasa    6.0   17.0\n",
       "2  01-12-2024            getafe                    Muy nuboso    6.0   16.0\n",
       "3  01-12-2024            madrid                      Cubierto    6.0   16.0\n",
       "4  01-12-2024      navalcarnero                      Cubierto    5.0   17.0"
      ]
     },
     "execution_count": 3,
     "metadata": {},
     "output_type": "execute_result"
    }
   ],
   "source": [
    "df.head()"
   ]
  },
  {
   "cell_type": "code",
   "execution_count": 4,
   "metadata": {},
   "outputs": [
    {
     "data": {
      "text/plain": [
       "'2024-12-01'"
      ]
     },
     "execution_count": 4,
     "metadata": {},
     "output_type": "execute_result"
    }
   ],
   "source": [
    "def cambio_fecha(fecha:str):\n",
    "    dia, mes, year = fecha.split(\"-\")\n",
    "    return f\"{year}-{mes}-{dia}\"\n",
    "\n",
    "\n",
    "cambio_fecha(\"01-12-2024\"\t)"
   ]
  },
  {
   "cell_type": "code",
   "execution_count": 5,
   "metadata": {},
   "outputs": [
    {
     "data": {
      "text/html": [
       "<div>\n",
       "<style scoped>\n",
       "    .dataframe tbody tr th:only-of-type {\n",
       "        vertical-align: middle;\n",
       "    }\n",
       "\n",
       "    .dataframe tbody tr th {\n",
       "        vertical-align: top;\n",
       "    }\n",
       "\n",
       "    .dataframe thead th {\n",
       "        text-align: right;\n",
       "    }\n",
       "</style>\n",
       "<table border=\"1\" class=\"dataframe\">\n",
       "  <thead>\n",
       "    <tr style=\"text-align: right;\">\n",
       "      <th></th>\n",
       "      <th>fecha</th>\n",
       "      <th>nombre</th>\n",
       "      <th>descripcion</th>\n",
       "      <th>t_min</th>\n",
       "      <th>t_max</th>\n",
       "    </tr>\n",
       "  </thead>\n",
       "  <tbody>\n",
       "    <tr>\n",
       "      <th>0</th>\n",
       "      <td>2024-12-01</td>\n",
       "      <td>alcala_heranes</td>\n",
       "      <td>Muy nuboso</td>\n",
       "      <td>2.0</td>\n",
       "      <td>18.0</td>\n",
       "    </tr>\n",
       "    <tr>\n",
       "      <th>1</th>\n",
       "      <td>2024-12-01</td>\n",
       "      <td>collado_villalba</td>\n",
       "      <td>Muy nuboso con lluvia escasa</td>\n",
       "      <td>6.0</td>\n",
       "      <td>17.0</td>\n",
       "    </tr>\n",
       "    <tr>\n",
       "      <th>2</th>\n",
       "      <td>2024-12-01</td>\n",
       "      <td>getafe</td>\n",
       "      <td>Muy nuboso</td>\n",
       "      <td>6.0</td>\n",
       "      <td>16.0</td>\n",
       "    </tr>\n",
       "    <tr>\n",
       "      <th>3</th>\n",
       "      <td>2024-12-01</td>\n",
       "      <td>madrid</td>\n",
       "      <td>Cubierto</td>\n",
       "      <td>6.0</td>\n",
       "      <td>16.0</td>\n",
       "    </tr>\n",
       "    <tr>\n",
       "      <th>4</th>\n",
       "      <td>2024-12-01</td>\n",
       "      <td>navalcarnero</td>\n",
       "      <td>Cubierto</td>\n",
       "      <td>5.0</td>\n",
       "      <td>17.0</td>\n",
       "    </tr>\n",
       "  </tbody>\n",
       "</table>\n",
       "</div>"
      ],
      "text/plain": [
       "        fecha            nombre                   descripcion  t_min  t_max\n",
       "0  2024-12-01    alcala_heranes                    Muy nuboso    2.0   18.0\n",
       "1  2024-12-01  collado_villalba  Muy nuboso con lluvia escasa    6.0   17.0\n",
       "2  2024-12-01            getafe                    Muy nuboso    6.0   16.0\n",
       "3  2024-12-01            madrid                      Cubierto    6.0   16.0\n",
       "4  2024-12-01      navalcarnero                      Cubierto    5.0   17.0"
      ]
     },
     "execution_count": 5,
     "metadata": {},
     "output_type": "execute_result"
    }
   ],
   "source": [
    "df2 = df.copy()\n",
    "df2[\"fecha\"] = df2.fecha.apply(lambda x: cambio_fecha(x))\n",
    "df2.head()"
   ]
  },
  {
   "cell_type": "code",
   "execution_count": 7,
   "metadata": {},
   "outputs": [
    {
     "data": {
      "text/plain": [
       "array(['2024-12-01', '2024-12-02', '2024-12-03', '2024-12-04',\n",
       "       '2024-12-05', '2024-12-06', '2024-12-07', '2024-12-08',\n",
       "       '2024-12-09', '2024-12-10', '2024-11-28', '2024-11-29',\n",
       "       '2024-11-30'], dtype=object)"
      ]
     },
     "execution_count": 7,
     "metadata": {},
     "output_type": "execute_result"
    }
   ],
   "source": [
    "df2.fecha.unique()"
   ]
  },
  {
   "cell_type": "code",
   "execution_count": 11,
   "metadata": {},
   "outputs": [],
   "source": [
    "df2.columns.tolist()\n",
    "\n",
    "df2.columns = ['fecha', 'ciudad', 'descripcion', 't_min', 't_max']"
   ]
  },
  {
   "cell_type": "code",
   "execution_count": 12,
   "metadata": {},
   "outputs": [],
   "source": [
    "df2.to_csv(\"datos_nuevos.csv\",index=False)"
   ]
  },
  {
   "cell_type": "code",
   "execution_count": 18,
   "metadata": {},
   "outputs": [
    {
     "data": {
      "text/plain": [
       "[('2024-12-01', 'alcala_heranes', 'Muy nuboso', 2.0, 18.0),\n",
       " ('2024-12-01', 'collado_villalba', 'Muy nuboso con lluvia escasa', 6.0, 17.0),\n",
       " ('2024-12-01', 'getafe', 'Muy nuboso', 6.0, 16.0),\n",
       " ('2024-12-01', 'madrid', 'Cubierto', 6.0, 16.0),\n",
       " ('2024-12-01', 'navalcarnero', 'Cubierto', 5.0, 17.0),\n",
       " ('2024-12-02', 'alcala_heranes', 'Muy nuboso', 5.0, 18.0),\n",
       " ('2024-12-02', 'collado_villalba', 'Muy nuboso con lluvia escasa', 5.0, 17.0),\n",
       " ('2024-12-02', 'getafe', 'Intervalos nubosos', 5.0, 17.0),\n",
       " ('2024-12-02', 'madrid', 'Muy nuboso', 7.0, 16.0),\n",
       " ('2024-12-02', 'navalcarnero', 'Intervalos nubosos', 5.0, 18.0),\n",
       " ('2024-12-03', 'alcala_heranes', 'Nuboso con lluvia escasa', 4.0, 15.0),\n",
       " ('2024-12-03',\n",
       "  'collado_villalba',\n",
       "  'Intervalos nubosos con lluvia escasa',\n",
       "  3.0,\n",
       "  14.0),\n",
       " ('2024-12-03', 'getafe', 'Nuboso con lluvia escasa', 5.0, 15.0),\n",
       " ('2024-12-03', 'madrid', 'Nuboso con lluvia escasa', 6.0, 14.0),\n",
       " ('2024-12-03',\n",
       "  'navalcarnero',\n",
       "  'Intervalos nubosos con lluvia escasa',\n",
       "  5.0,\n",
       "  15.0),\n",
       " ('2024-12-04', 'alcala_heranes', 'Intervalos nubosos', 3.0, 16.0),\n",
       " ('2024-12-04',\n",
       "  'collado_villalba',\n",
       "  'Intervalos nubosos con lluvia',\n",
       "  5.0,\n",
       "  14.0),\n",
       " ('2024-12-04', 'getafe', 'Intervalos nubosos', 7.0, 16.0),\n",
       " ('2024-12-04', 'madrid', 'Intervalos nubosos', 9.0, 15.0),\n",
       " ('2024-12-04', 'navalcarnero', 'Poco nuboso', 5.0, 16.0),\n",
       " ('2024-12-05', 'alcala_heranes', 'Poco nuboso', 3.0, 15.0),\n",
       " ('2024-12-05', 'collado_villalba', 'Poco nuboso', 4.0, 16.0),\n",
       " ('2024-12-05', 'getafe', 'Poco nuboso', 4.0, 14.0),\n",
       " ('2024-12-05', 'madrid', 'Poco nuboso', 6.0, 14.0),\n",
       " ('2024-12-05', 'navalcarnero', 'Poco nuboso', 4.0, 16.0),\n",
       " ('2024-12-06', 'alcala_heranes', 'Poco nuboso', 2.0, 17.0),\n",
       " ('2024-12-06', 'collado_villalba', 'Nubes altas', 8.0, 18.0),\n",
       " ('2024-12-06', 'getafe', 'Poco nuboso', 6.0, 16.0),\n",
       " ('2024-12-06', 'madrid', 'Poco nuboso', 6.0, 16.0),\n",
       " ('2024-12-06', 'navalcarnero', 'Nubes altas', 6.0, 17.0),\n",
       " ('2024-12-07', 'alcala_heranes', 'Poco nuboso', 4.0, 16.0),\n",
       " ('2024-12-07', 'collado_villalba', 'Nuboso', 4.0, 14.0),\n",
       " ('2024-12-07', 'getafe', 'Poco nuboso', 5.0, 15.0),\n",
       " ('2024-12-07', 'madrid', 'Despejado', 6.0, 15.0),\n",
       " ('2024-12-07', 'navalcarnero', 'Poco nuboso', 6.0, 16.0),\n",
       " ('2024-12-08', 'alcala_heranes', 'Intervalos nubosos', 1.0, 11.0),\n",
       " ('2024-12-08', 'collado_villalba', 'Cubierto con nieve', 3.0, 9.0),\n",
       " ('2024-12-08', 'getafe', 'Poco nuboso', 4.0, 11.0),\n",
       " ('2024-12-08', 'madrid', 'Despejado', 5.0, 10.0),\n",
       " ('2024-12-08', 'navalcarnero', 'Poco nuboso', 5.0, 11.0),\n",
       " ('2024-12-09', 'alcala_heranes', 'Despejado', 1.0, 10.0),\n",
       " ('2024-12-09', 'collado_villalba', 'Intervalos nubosos con nieve', 2.0, 7.0),\n",
       " ('2024-12-09', 'getafe', 'Despejado', 4.0, 9.0),\n",
       " ('2024-12-09', 'madrid', 'Despejado', 4.0, 9.0),\n",
       " ('2024-12-09', 'navalcarnero', 'Despejado', 5.0, 10.0),\n",
       " ('2024-12-10', 'alcala_heranes', 'Poco nuboso', 1.0, 9.0),\n",
       " ('2024-12-10', 'collado_villalba', 'Intervalos nubosos con nieve', 2.0, 8.0),\n",
       " ('2024-12-10', 'getafe', 'Poco nuboso', 0.0, 9.0),\n",
       " ('2024-12-10', 'madrid', 'Poco nuboso', 2.0, 8.0),\n",
       " ('2024-12-10', 'navalcarnero', 'Poco nuboso', 2.0, 9.0),\n",
       " ('2024-11-28', 'alcala_heranes', 'Despejado', -2.0, 16.0),\n",
       " ('2024-11-28', 'collado_villalba', 'Despejado', 5.0, 14.0),\n",
       " ('2024-11-28', 'getafe', 'Despejado', 2.0, 14.0),\n",
       " ('2024-11-28', 'madrid', 'Despejado', 4.0, 13.0),\n",
       " ('2024-11-28', 'navalcarnero', 'Despejado', 4.0, 15.0),\n",
       " ('2024-11-29', 'alcala_heranes', 'Poco nuboso', 2.0, 17.0),\n",
       " ('2024-11-29', 'collado_villalba', 'Poco nuboso', 5.0, 16.0),\n",
       " ('2024-11-29', 'getafe', 'Poco nuboso', 4.0, 15.0),\n",
       " ('2024-11-29', 'madrid', 'Poco nuboso', 5.0, 14.0),\n",
       " ('2024-11-29', 'navalcarnero', 'Poco nuboso', 5.0, 16.0),\n",
       " ('2024-11-30', 'alcala_heranes', 'Poco nuboso', 5.0, 18.0),\n",
       " ('2024-11-30', 'collado_villalba', 'Poco nuboso', 7.0, 17.0),\n",
       " ('2024-11-30', 'getafe', 'Poco nuboso', 5.0, 17.0),\n",
       " ('2024-11-30', 'madrid', 'Poco nuboso', 6.0, 16.0),\n",
       " ('2024-11-30', 'navalcarnero', 'Poco nuboso', 5.0, 17.0)]"
      ]
     },
     "execution_count": 18,
     "metadata": {},
     "output_type": "execute_result"
    }
   ],
   "source": [
    "df2.apply(tuple,axis=1).tolist()"
   ]
  }
 ],
 "metadata": {
  "kernelspec": {
   "display_name": "apis",
   "language": "python",
   "name": "python3"
  },
  "language_info": {
   "codemirror_mode": {
    "name": "ipython",
    "version": 3
   },
   "file_extension": ".py",
   "mimetype": "text/x-python",
   "name": "python",
   "nbconvert_exporter": "python",
   "pygments_lexer": "ipython3",
   "version": "3.11.9"
  }
 },
 "nbformat": 4,
 "nbformat_minor": 2
}
